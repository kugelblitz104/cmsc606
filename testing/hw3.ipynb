{
 "cells": [
  {
   "cell_type": "code",
   "execution_count": 1,
   "id": "605ea19f",
   "metadata": {},
   "outputs": [],
   "source": [
    "# imports\n",
    "from torchvision import datasets, transforms\n",
    "import matplotlib.pyplot as plt\n",
    "import cmsc606.hw.hw3.hw3_impl as impl"
   ]
  },
  {
   "cell_type": "code",
   "execution_count": 2,
   "id": "d9bb03b3",
   "metadata": {},
   "outputs": [],
   "source": [
    "# initialize variables\n",
    "DATA_ROOT = \"../data\"\n",
    "\n",
    "# define transforms\n",
    "transform = transforms.Compose(\n",
    "    [transforms.ToTensor(), transforms.Normalize((0.1307,), (0.3081,))]\n",
    ")"
   ]
  },
  {
   "cell_type": "code",
   "execution_count": 3,
   "id": "a88d2b2d",
   "metadata": {},
   "outputs": [],
   "source": [
    "# download dataset\n",
    "def download_mnist_dataset(root: str):\n",
    "    mnist_data = datasets.MNIST(\n",
    "        root=root,\n",
    "        train=True,\n",
    "        download=True,\n",
    "        transform=transforms.ToTensor()\n",
    "    )\n",
    "    return mnist_data\n",
    "\n",
    "mnist_data = download_mnist_dataset(root=DATA_ROOT)"
   ]
  },
  {
   "cell_type": "code",
   "execution_count": 4,
   "id": "fbdd4ac3",
   "metadata": {},
   "outputs": [],
   "source": [
    "# define datasets\n",
    "train_dataset = datasets.MNIST(\n",
    "    root=DATA_ROOT, train=True, download=False, transform=transform\n",
    ")\n",
    "\n",
    "test_dataset = datasets.MNIST(\n",
    "    root=DATA_ROOT, train=False, download=False, transform=transform\n",
    ")"
   ]
  },
  {
   "cell_type": "code",
   "execution_count": 5,
   "id": "cc1b4a84",
   "metadata": {},
   "outputs": [
    {
     "data": {
      "image/png": "[encoded data removed]",
      "text/plain": [
       "<Figure size 640x480 with 1 Axes>"
      ]
     },
     "metadata": {},
     "output_type": "display_data"
    }
   ],
   "source": [
    "# show image to verify dataset\n",
    "def show_mnist_image(index: int):\n",
    "    image, label = mnist_data[index]\n",
    "    \n",
    "    image = image.squeeze().numpy()\n",
    "    \n",
    "    plt.imshow(image, cmap=\"gray\")\n",
    "    plt.title(f\"Label: {label}\")\n",
    "    plt.axis(\"off\")\n",
    "    plt.show()\n",
    "    \n",
    "show_mnist_image(42)"
   ]
  },
  {
   "cell_type": "code",
   "execution_count": 6,
   "id": "24c5af66",
   "metadata": {},
   "outputs": [
    {
     "name": "stdout",
     "output_type": "stream",
     "text": [
      "Epoch [1/5], Loss: 8.0416, LR: 1.2000\n",
      "Epoch [2/5], Loss: 4.5952, LR: 0.8400\n",
      "Epoch [3/5], Loss: 3.2783, LR: 0.5880\n",
      "Epoch [4/5], Loss: 2.5140, LR: 0.4116\n",
      "Epoch [5/5], Loss: 2.0789, LR: 0.2881\n"
     ]
    }
   ],
   "source": [
    "W, b = impl.my_train(train_dataset)"
   ]
  },
  {
   "cell_type": "code",
   "execution_count": 7,
   "id": "8c0dc990",
   "metadata": {},
   "outputs": [
    {
     "name": "stdout",
     "output_type": "stream",
     "text": [
      "Test Accuracy: 88.76%\n",
      "Test error rate: 11.24%\n",
      "✅ Test passed, error rate is below 12.5%\n"
     ]
    }
   ],
   "source": [
    "test_error_rate = impl.my_test(W, b, test_dataset)"
   ]
  }
 ],
 "metadata": {
  "kernelspec": {
   "display_name": "cmsc606",
   "language": "python",
   "name": "python3"
  },
  "language_info": {
   "codemirror_mode": {
    "name": "ipython",
    "version": 3
   },
   "file_extension": ".py",
   "mimetype": "text/x-python",
   "name": "python",
   "nbconvert_exporter": "python",
   "pygments_lexer": "ipython3",
   "version": "3.11.9"
  }
 },
 "nbformat": 4,
 "nbformat_minor": 5
}
