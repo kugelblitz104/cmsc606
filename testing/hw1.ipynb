{
 "cells": [
  {
   "cell_type": "code",
   "execution_count": null,
   "id": "ad11e8cb",
   "metadata": {},
   "outputs": [],
   "source": [
    "from cmsc606.hw.hw1.dotting import dotting"
   ]
  },
  {
   "cell_type": "code",
   "execution_count": null,
   "id": "5f079a8d",
   "metadata": {},
   "outputs": [],
   "source": [
    "f = [\n",
    "    ('X', 2)\n",
    ",   ('C', 1)\n",
    ",   ('+', 0, 1)\n",
    ",   ('*', 0, 2)\n",
    ",   ('S', 3)\n",
    "]"
   ]
  },
  {
   "cell_type": "code",
   "execution_count": null,
   "id": "00d0e23a",
   "metadata": {},
   "outputs": [],
   "source": [
    "dotting(f)"
   ]
  }
 ],
 "metadata": {
  "kernelspec": {
   "display_name": "cmsc606",
   "language": "python",
   "name": "python3"
  },
  "language_info": {
   "codemirror_mode": {
    "name": "ipython",
    "version": 3
   },
   "file_extension": ".py",
   "mimetype": "text/x-python",
   "name": "python",
   "nbconvert_exporter": "python",
   "pygments_lexer": "ipython3",
   "version": "3.11.9"
  }
 },
 "nbformat": 4,
 "nbformat_minor": 5
}
