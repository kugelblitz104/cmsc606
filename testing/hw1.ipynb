{
 "cells": [
  {
   "cell_type": "code",
   "execution_count": 1,
   "id": "ad11e8cb",
   "metadata": {},
   "outputs": [],
   "source": [
    "from cmsc606.hw.hw1.dotting import dotting, repeated_dotting"
   ]
  },
  {
   "cell_type": "code",
   "execution_count": 2,
   "id": "5f079a8d",
   "metadata": {},
   "outputs": [],
   "source": [
    "f = [\n",
    "    ('X', 2)\n",
    ",   ('C', 1)\n",
    ",   ('+', 0, 1)\n",
    ",   ('*', 0, 2)\n",
    ",   ('S', 3)\n",
    "]"
   ]
  },
  {
   "cell_type": "code",
   "execution_count": 3,
   "id": "bd704555",
   "metadata": {},
   "outputs": [
    {
     "data": {
      "text/plain": [
       "(2.0, 36.0, 60.0)"
      ]
     },
     "execution_count": 3,
     "metadata": {},
     "output_type": "execute_result"
    }
   ],
   "source": [
    "dotting(f)"
   ]
  },
  {
   "cell_type": "code",
   "execution_count": 4,
   "id": "303f167f",
   "metadata": {},
   "outputs": [
    {
     "data": {
      "text/plain": [
       "(16.687463589411763, 34.02132084071967)"
      ]
     },
     "execution_count": 4,
     "metadata": {},
     "output_type": "execute_result"
    }
   ],
   "source": [
    "repeated_dotting(f, 10)"
   ]
  }
 ],
 "metadata": {
  "kernelspec": {
   "display_name": "cmsc606",
   "language": "python",
   "name": "python3"
  },
  "language_info": {
   "codemirror_mode": {
    "name": "ipython",
    "version": 3
   },
   "file_extension": ".py",
   "mimetype": "text/x-python",
   "name": "python",
   "nbconvert_exporter": "python",
   "pygments_lexer": "ipython3",
   "version": "3.11.9"
  }
 },
 "nbformat": 4,
 "nbformat_minor": 5
}
